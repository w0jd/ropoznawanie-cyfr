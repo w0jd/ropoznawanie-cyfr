{
 "cells": [
  {
   "cell_type": "code",
   "execution_count": 28,
   "metadata": {},
   "outputs": [
    {
     "name": "stdout",
     "output_type": "stream",
     "text": [
      "00       0\n",
      "01       0\n",
      "02       0\n",
      "03       0\n",
      "04       0\n",
      "        ..\n",
      "2724     0\n",
      "2725     0\n",
      "2726     0\n",
      "2727     0\n",
      "label    5\n",
      "Name: 0, Length: 785, dtype: int64,<->\n",
      "00       0\n",
      "01       0\n",
      "02       0\n",
      "03       0\n",
      "04       0\n",
      "        ..\n",
      "2724     0\n",
      "2725     0\n",
      "2726     0\n",
      "2727     0\n",
      "label    0\n",
      "Name: 1, Length: 785, dtype: int64,<->\n"
     ]
    }
   ],
   "source": [
    "import pandas as pd\n",
    "import seaborn as sns\n",
    "import random as rd\n",
    "import numpy as np\n",
    "import cmath as c\n",
    "import statistics as st\n",
    "lst1=[]\n",
    "csv=pd.read_csv(\"plik.csv\")\n",
    "i=0;\n",
    "for i in range(20):\n",
    "    lst=csv.loc[i]\n",
    "\n",
    "    lst1.append(lst)\n",
    "lst2=[]\n",
    "# print(lst1)\n",
    "def maxImin( list, pocz, kon):\n",
    "    # list = rd.sample(list1, len(list1))\n",
    "    maxlist = [[] for _ in range(kon-1)]\n",
    "    minList = [[] for _ in range(kon-1)]\n",
    "    for i in range(kon-1):\n",
    "            if isinstance(list[0][i], (int, float)):\n",
    "                maxlist[i].append(list[0][i])\n",
    "                minList[i].append(list[0][i])\n",
    "   \n",
    "    for i in range(len(list)):\n",
    "            for j in range(kon-1):\n",
    "                if isinstance(list[i][j], (int, float)):\n",
    "                    if list[i][j] > maxlist[j][-1]:\n",
    "                        maxlist[j][-1] = list[i][j]\n",
    "                    if list[i][j] < minList[j][-1]:\n",
    "                        minList[j][-1] = list[i][j]\n",
    "    \n",
    "    for i in range(len(list)):\n",
    "            for j in range(kon-1):\n",
    "                if isinstance(list[i][j], (int, float)):\n",
    "                    list[i][j] = (list[i][j] - minList[j][-1]) / (maxlist[j][-1] - minList[j][-1])\n",
    "                # else:\n",
    "                    # print(list[i][j],\"<->\")\n",
    "    # print(list)\n",
    "    return(list)  \n",
    "ln=len(lst1[0]) \n",
    "lsta=maxImin(lst1,0,ln) \n",
    "print(lsta) "
   ]
  },
  {
   "cell_type": "code",
   "execution_count": null,
   "metadata": {},
   "outputs": [],
   "source": []
  },
  {
   "cell_type": "code",
   "execution_count": null,
   "metadata": {},
   "outputs": [],
   "source": []
  }
 ],
 "metadata": {
  "kernelspec": {
   "display_name": "Python 3",
   "language": "python",
   "name": "python3"
  },
  "language_info": {
   "codemirror_mode": {
    "name": "ipython",
    "version": 3
   },
   "file_extension": ".py",
   "mimetype": "text/x-python",
   "name": "python",
   "nbconvert_exporter": "python",
   "pygments_lexer": "ipython3",
   "version": "3.11.2"
  },
  "orig_nbformat": 4
 },
 "nbformat": 4,
 "nbformat_minor": 2
}
