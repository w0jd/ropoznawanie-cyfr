{
 "cells": [
  {
   "cell_type": "code",
   "execution_count": 25,
   "metadata": {},
   "outputs": [],
   "source": [
    "from keras.datasets import mnist\n",
    "import matplotlib.pyplot as plt\n",
    "import numpy as np\n",
    "import random as rd\n",
    "(x_train, y_train), (x_test, y_test) = mnist.load_data()\n",
    "# print (x_train[0][1])\n",
    "# fig, axs = plt.subplots(0, 0, figsize=(1, 1))\n",
    "# fig.subplots_adjust(hspace = .5, wspace=.001)\n",
    "# axs = axs.ravel()\n",
    "ile=len(x_train)\n",
    "ile2=len(x_test)\n",
    "# print(ile)\n",
    "splaszczoneTesty=[]\n",
    "splaszczone2=[]\n",
    "norm=[]\n",
    "for i in range(ile):\n",
    "    splaszczone2.append(np.ravel(x_train[i]))\n",
    "for i in range(ile2):\n",
    "    splaszczoneTesty.append(np.ravel(x_test[i]))\n",
    "# plt.imshow(x_train[0], cmap='gray')\n",
    "# print (y_train[0])\n",
    "\n",
    "# plt.axis('off')\n",
    "plt.show()\n",
    "def maxImin(list, pocz, kon):\n",
    "        # list = rd.sample(list1, len(list1))\n",
    "        maxlist = [[] for _ in range(kon-1)]\n",
    "        minList = [[] for _ in range(kon-1)]\n",
    "        for i in range(kon-1):\n",
    "            if isinstance(list[0][i], (int, float)):\n",
    "                maxlist[i].append(list[0][i])\n",
    "                minList[i].append(list[0][i])\n",
    "       \n",
    "        for i in range(len(list)):\n",
    "            for j in range(kon-1):\n",
    "                if isinstance(list[i][j], (int, float)):\n",
    "                    if list[i][j] > maxlist[j][-1]:\n",
    "                        maxlist[j][-1] = list[i][j]\n",
    "                    if list[i][j] < minList[j][-1]:\n",
    "                        minList[j][-1] = list[i][j]\n",
    "        \n",
    "        for i in range(len(list)):\n",
    "            for j in range(kon-1):\n",
    "                if isinstance(list[i][j], (int, float)):\n",
    "                    list[i][j] = (list[i][j] - minList[j][-1]) / (maxlist[j][-1] - minList[j][-1])\n",
    "        # print(list)\n",
    "        return(list) \n",
    "    \n",
    "def tasowanie(list1):\n",
    "    list = rd.sample(list1, len(list1))\n",
    "    return(list)   \n",
    "norm=maxImin(splaszczone2, 1,len(splaszczone2[0]))   \n",
    "print(norm[0])"
   ]
  },
  {
   "cell_type": "code",
   "execution_count": null,
   "metadata": {},
   "outputs": [],
   "source": []
  },
  {
   "cell_type": "code",
   "execution_count": null,
   "metadata": {},
   "outputs": [],
   "source": []
  }
 ],
 "metadata": {
  "kernelspec": {
   "display_name": "Python 3",
   "language": "python",
   "name": "python3"
  },
  "language_info": {
   "codemirror_mode": {
    "name": "ipython",
    "version": 3
   },
   "file_extension": ".py",
   "mimetype": "text/x-python",
   "name": "python",
   "nbconvert_exporter": "python",
   "pygments_lexer": "ipython3",
   "version": "3.11.2"
  },
  "orig_nbformat": 4
 },
 "nbformat": 4,
 "nbformat_minor": 2
}
